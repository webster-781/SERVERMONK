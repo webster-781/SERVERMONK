{
 "cells": [
  {
   "cell_type": "code",
   "execution_count": null,
   "metadata": {},
   "outputs": [],
   "source": [
    "# from flask import render_template, url_for, flash, redirect\n",
    "# from hackathon import app\n",
    "# from hackathon.forms import RegistrationForm, LoginForm\n",
    "# from hackathon.models import User, Food\n",
    "\n",
    "# @app.route(\"/\",methods=['GET', 'POST'])\n",
    "# def home():\n",
    "#     form = RegistrationForm()\n",
    "#     if form.validate_on_submit():\n",
    "#         flash(f'Account created for {form.username.data}!', 'success')\n",
    "#         return redirect(url_for('home'))\n",
    "#     return render_template('register.html', title='Register',form=form)\n",
    "\n",
    "\n",
    "# @app.route(\"/register\", methods=['GET', 'POST'])\n",
    "# def register():\n",
    "#     form = RegistrationForm()\n",
    "#     if form.validate_on_submit():\n",
    "#         flash('Account created for {form.username.data}!', 'success')\n",
    "#         return redirect(url_for('home'))\n",
    "#     return render_template('register.html', title='Register', form=form)\n",
    "\n",
    "\n",
    "# @app.route(\"/login\", methods=['GET', 'POST'])\n",
    "# def login():\n",
    "#     form = LoginForm()\n",
    "#     if form.validate_on_submit():\n",
    "#         if form.email.data == 'admin@blog.com' and form.password.data == 'password':\n",
    "#             flash('You have been logged in!', 'success')\n",
    "#             return redirect(url_for(''))\n",
    "#         else:\n",
    "#             flash('Login Unsuccessful. Please check username and password', 'danger')\n",
    "#     return render_template('login.html', title='Login', form=form)\n",
    "\n",
    "\n",
    "# @app.route(\"/user\", methods=['GET','POST'],user = user)\n",
    "# def user():\n",
    "#     return render_template(\"user.html\",user)"
   ]
  }
 ],
 "metadata": {
  "kernelspec": {
   "display_name": "Python 3",
   "language": "python",
   "name": "python3"
  },
  "language_info": {
   "codemirror_mode": {
    "name": "ipython",
    "version": 3
   },
   "file_extension": ".py",
   "mimetype": "text/x-python",
   "name": "python",
   "nbconvert_exporter": "python",
   "pygments_lexer": "ipython3",
   "version": "3.6.9"
  }
 },
 "nbformat": 4,
 "nbformat_minor": 4
}
