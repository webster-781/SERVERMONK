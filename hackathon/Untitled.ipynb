{
 "cells": [
  {
   "cell_type": "code",
   "execution_count": 117,
   "metadata": {},
   "outputs": [
    {
     "name": "stderr",
     "output_type": "stream",
     "text": [
      "/home/addy/.local/lib/python3.6/site-packages/flask_sqlalchemy/__init__.py:835: FSADeprecationWarning: SQLALCHEMY_TRACK_MODIFICATIONS adds significant overhead and will be disabled by default in the future.  Set it to True or False to suppress this warning.\n",
      "  'SQLALCHEMY_TRACK_MODIFICATIONS adds significant overhead and '\n"
     ]
    }
   ],
   "source": [
    "from flask import Flask, render_template,url_for, flash, redirect\n",
    "from flask_sqlalchemy import SQLAlchemy\n",
    "from datetime import datetime\n",
    "from flask_wtf import FlaskForm\n",
    "from wtforms import StringField, PasswordField, SubmitField, BooleanField\n",
    "from wtforms.validators import DataRequired, Length, Email, EqualTo, ValidationError\n",
    "from flask_bcrypt import Bcrypt\n",
    "from flask_login import LoginManager, UserMixin, current_user, login_user, logout_user\n",
    "\n",
    "\n",
    "class RegistrationForm(FlaskForm):\n",
    "    email = StringField('Email',validators=[DataRequired(), Email()])\n",
    "    password = PasswordField('Password', validators=[DataRequired()])\n",
    "    confirm_password = PasswordField('Confirm Password',validators=[DataRequired(), EqualTo('password')])\n",
    "    submit = SubmitField('Sign Up')\n",
    "    \n",
    "    def validate_email(self,email):\n",
    "        user = User.query.filter_by(email=email.data).first()\n",
    "        if user:\n",
    "            raise ValidationError(\"That Username is taken. Please choose a different one!\")\n",
    "\n",
    "class LoginForm(FlaskForm):\n",
    "    email = StringField('Email',validators=[DataRequired(),Email()])\n",
    "    password = PasswordField(('Password'),validators=[DataRequired()])\n",
    "    submit = SubmitField('Login')\n",
    "    \n",
    "class FoodForm(FlaskForm):\n",
    "    name = StringField('food_name',validators=[DataRequired()])\n",
    "    quantity = IntegerField('quantity', validators=[DataRequired()])\n",
    "    submit = SubmitField('Add Food')\n",
    "    \n",
    "    \n",
    "app = Flask(__name__)\n",
    "app.config['SECRET_KEY'] = b'\\xc5!\\xddk\\xd7\\x08\\x85\\x973H\\x7f\\xc5D}\\xf5\\x92ZMW\\xd0g(\\x01\\x03'\n",
    "app.config['SQLALCHEMY_DATABASE_URI'] = 'sqlite:///site.db'\n",
    "db = SQLAlchemy(app)\n",
    "bcrypt=Bcrypt(app)\n",
    "login_manager=LoginManager(app)\n",
    "\n",
    "class User(db.Model,UserMixin):\n",
    "    id = db.Column(db.Integer, primary_key=True)\n",
    "    email = db.Column(db.String(120), unique=True, nullable=False)\n",
    "    password = db.Column(db.String(60), nullable=False)\n",
    "    image_file = db.Column(db.String(20), nullable=False, default='#')\n",
    "    food = \n",
    "    def __repr__(self):\n",
    "        return{\"email: {}, password: {},image: {}\".format(self.email,self.password,self.image_file)}\n",
    "\n",
    "@login_manager.user_loader\n",
    "def load_user(user_id):\n",
    "    return User.query.get(int(user_id))\n",
    "\n",
    "\n",
    "@app.route(\"/\", methods =[\"GET\",\"POST\"])\n",
    "@app.route(\"/home\", methods =[\"GET\",\"POST\"])\n",
    "def home():\n",
    "    form = LoginForm()\n",
    "    if(form.validate_on_submit()):\n",
    "        user=User.query.filter_by(email=form.email.data).first()\n",
    "        if user and bcrypt.check_password_hash(user.password,form.password.data):\n",
    "            login_user(user)\n",
    "            flash(\"Logged in as {}\".format(user.email),'success')\n",
    "            return render_template('dashboard.html',user=user)\n",
    "        flash(\"Log in Unsuccessful! Please check username and password\",'danger')\n",
    "    return render_template('home.html',form = form)\n",
    "    \n",
    "@app.route(\"/about\")\n",
    "def about():\n",
    "    return(\"About\")\n",
    "\n",
    "@app.route(\"/logout\")\n",
    "def logout():\n",
    "    logout_user()\n",
    "    flash(\"You have successfully logged out!\" , 'success')\n",
    "    return redirect(url_for('home'))\n",
    "\n",
    "@app.route(\"/dashboard\")\n",
    "def dash():\n",
    "    user = user\n",
    "    form = FoodForm()\n",
    "    \n",
    "    return render_template(\"dashboard.html\")\n",
    "\n",
    "@app.route(\"/register\", methods=['GET', 'POST'])\n",
    "def register():\n",
    "    form = RegistrationForm()\n",
    "    if form.validate_on_submit():\n",
    "        hashed_pw= bcrypt.generate_password_hash(form.password.data).decode('utf-8')\n",
    "        user=User(email=form.email.data,password= hashed_pw)\n",
    "        db.session.add(user)\n",
    "        db.session.commit()\n",
    "        flash('Your account has been created! You are now able to Log in','success')\n",
    "        return redirect(url_for('home'))\n",
    "    return render_template('register.html', title='Register', form=form)"
   ]
  },
  {
   "cell_type": "code",
   "execution_count": 115,
   "metadata": {},
   "outputs": [
    {
     "name": "stdout",
     "output_type": "stream",
     "text": [
      "a@w.com\n",
      "a@b.in\n",
      "singhayush4499@gmail.com\n",
      "a@vd.com\n",
      "b@d.in\n",
      "h@l.com\n",
      "randi@randi.randi\n",
      "bhandareaniket123@gmail.com\n"
     ]
    }
   ],
   "source": [
    "user_1=User.query.all()\n",
    "for user in user_1:\n",
    "    print(user.email)"
   ]
  }
 ],
 "metadata": {
  "kernelspec": {
   "display_name": "Python 3",
   "language": "python",
   "name": "python3"
  },
  "language_info": {
   "codemirror_mode": {
    "name": "ipython",
    "version": 3
   },
   "file_extension": ".py",
   "mimetype": "text/x-python",
   "name": "python",
   "nbconvert_exporter": "python",
   "pygments_lexer": "ipython3",
   "version": "3.6.9"
  }
 },
 "nbformat": 4,
 "nbformat_minor": 4
}
