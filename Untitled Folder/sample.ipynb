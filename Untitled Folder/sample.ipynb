{
 "cells": [
  {
   "cell_type": "code",
   "execution_count": 47,
   "metadata": {},
   "outputs": [
    {
     "name": "stdout",
     "output_type": "stream",
     "text": [
      "b'{\\n  \"text\" : \"xyz\",\\n  \"parsed\" : [ ],\\n  \"hints\" : [ ]\\n}'\n",
      "0\n"
     ]
    }
   ],
   "source": [
    "import requests\n",
    "\n",
    "url = \"https://edamam-food-and-grocery-database.p.rapidapi.com/parser\"\n",
    "quantity =1\n",
    "querystring = {\"ingr\": \"xyz\"}\n",
    "headers = {'x-rapidapi-host': \"edamam-food-and-grocery-database.p.rapidapi.com\",\n",
    "'x-rapidapi-key': \"08ec208f16msh8522ec90dda9930p140383jsn5c0e2158b994\"}\n",
    "response = requests.request(\"GET\", url, headers=headers, params=querystring)\n",
    "dc = response.json()\n",
    "print(response.content)\n",
    "print(len(dc[\"hints\"]))"
   ]
  }
 ],
 "metadata": {
  "kernelspec": {
   "display_name": "Python 3",
   "language": "python",
   "name": "python3"
  },
  "language_info": {
   "codemirror_mode": {
    "name": "ipython",
    "version": 3
   },
   "file_extension": ".py",
   "mimetype": "text/x-python",
   "name": "python",
   "nbconvert_exporter": "python",
   "pygments_lexer": "ipython3",
   "version": "3.6.9"
  }
 },
 "nbformat": 4,
 "nbformat_minor": 4
}
