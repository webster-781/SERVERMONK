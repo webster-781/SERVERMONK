{
 "cells": [
  {
   "cell_type": "code",
   "execution_count": 38,
   "metadata": {},
   "outputs": [
    {
     "name": "stdout",
     "output_type": "stream",
     "text": [
      "0\n",
      "52\n",
      "13\n"
     ]
    }
   ],
   "source": [
    "import requests\n",
    "\n",
    "url = \"https://edamam-food-and-grocery-database.p.rapidapi.com/parser\"\n",
    "quantity =1\n",
    "querystring = {\"ingr\": \"apple\"}\n",
    "headers = {'x-rapidapi-host': \"edamam-food-and-grocery-database.p.rapidapi.com\",\n",
    "'x-rapidapi-key': \"08ec208f16msh8522ec90dda9930p140383jsn5c0e2158b994\"}\n",
    "response = requests.request(\"GET\", url, headers=headers, params=querystring)\n",
    "dc = response.json()\n",
    "procnt=int(dc['hints'][0]['food']['nutrients']['PROCNT'])\n",
    "protein = procnt* quantity\n",
    "calcnt=int(dc['hints'][0]['food']['nutrients']['ENERC_KCAL'])\n",
    "calorie = calcnt* quantity\n",
    "carbcnt=int(dc['hints'][0]['food']['nutrients']['CHOCDF'])\n",
    "carb = carbcnt* quantity\n",
    "\n",
    "print(protein)\n",
    "print(calorie)\n",
    "print(carb)"
   ]
  }
 ],
 "metadata": {
  "kernelspec": {
   "display_name": "Python 3",
   "language": "python",
   "name": "python3"
  },
  "language_info": {
   "codemirror_mode": {
    "name": "ipython",
    "version": 3
   },
   "file_extension": ".py",
   "mimetype": "text/x-python",
   "name": "python",
   "nbconvert_exporter": "python",
   "pygments_lexer": "ipython3",
   "version": "3.6.9"
  }
 },
 "nbformat": 4,
 "nbformat_minor": 4
}
